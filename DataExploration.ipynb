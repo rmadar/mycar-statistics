{
 "cells": [
  {
   "cell_type": "code",
   "execution_count": 1,
   "metadata": {},
   "outputs": [],
   "source": [
    "import pandas as pd\n",
    "import numpy as np\n",
    "import matplotlib.pyplot as plt"
   ]
  },
  {
   "cell_type": "code",
   "execution_count": 2,
   "metadata": {},
   "outputs": [],
   "source": [
    "infile = open('data_raw.csv', 'r', encoding='utf8')\n",
    "outfile = open('formated_data.csv', 'w', encoding='utf8')\n",
    "for line in infile:\n",
    "    outfile.write(line.replace(',', '.').replace(',', '.'))\n",
    "infile.close()\n",
    "outfile.close()\n",
    "    "
   ]
  },
  {
   "cell_type": "code",
   "execution_count": 6,
   "metadata": {},
   "outputs": [
    {
     "data": {
      "text/html": [
       "<div>\n",
       "<style scoped>\n",
       "    .dataframe tbody tr th:only-of-type {\n",
       "        vertical-align: middle;\n",
       "    }\n",
       "\n",
       "    .dataframe tbody tr th {\n",
       "        vertical-align: top;\n",
       "    }\n",
       "\n",
       "    .dataframe thead th {\n",
       "        text-align: right;\n",
       "    }\n",
       "</style>\n",
       "<table border=\"1\" class=\"dataframe\">\n",
       "  <thead>\n",
       "    <tr style=\"text-align: right;\">\n",
       "      <th></th>\n",
       "      <th>date</th>\n",
       "      <th>t_i</th>\n",
       "      <th>t_f</th>\n",
       "      <th>dt</th>\n",
       "      <th>address_i</th>\n",
       "      <th>address_f</th>\n",
       "      <th>d</th>\n",
       "      <th>km</th>\n",
       "      <th>conso</th>\n",
       "      <th>gazoil_price</th>\n",
       "      <th>price</th>\n",
       "      <th>cat</th>\n",
       "      <th>unknown</th>\n",
       "    </tr>\n",
       "  </thead>\n",
       "  <tbody>\n",
       "    <tr>\n",
       "      <th>0</th>\n",
       "      <td>30/11/19</td>\n",
       "      <td>15:05</td>\n",
       "      <td>15:49</td>\n",
       "      <td>00:44</td>\n",
       "      <td>28 Avenue de l'Europe 63370 Lempdes France</td>\n",
       "      <td>10 Rue Côte Tranchant 63430 Pont-du-Château Fr...</td>\n",
       "      <td>39.4</td>\n",
       "      <td>670</td>\n",
       "      <td>4.6</td>\n",
       "      <td>1.4</td>\n",
       "      <td>2.52</td>\n",
       "      <td>Autre</td>\n",
       "      <td>NaN</td>\n",
       "    </tr>\n",
       "    <tr>\n",
       "      <th>1</th>\n",
       "      <td>30/11/19</td>\n",
       "      <td>14:05</td>\n",
       "      <td>14:25</td>\n",
       "      <td>00:20</td>\n",
       "      <td>26 Rue Emile Roux 63430 Pont-du-Château France</td>\n",
       "      <td>64 Avenue de l'Europe 63370 Lempdes France</td>\n",
       "      <td>18.2</td>\n",
       "      <td>629</td>\n",
       "      <td>5.0</td>\n",
       "      <td>1.4</td>\n",
       "      <td>1.29</td>\n",
       "      <td>Autre</td>\n",
       "      <td>NaN</td>\n",
       "    </tr>\n",
       "    <tr>\n",
       "      <th>2</th>\n",
       "      <td>29/11/19</td>\n",
       "      <td>18:45</td>\n",
       "      <td>19:04</td>\n",
       "      <td>00:18</td>\n",
       "      <td>Boulevard Saint-Jean Angle Rue Chappe 63100 Cl...</td>\n",
       "      <td>30 Rue Emile Roux 63430 Pont-du-Château France</td>\n",
       "      <td>13.5</td>\n",
       "      <td>610</td>\n",
       "      <td>4.4</td>\n",
       "      <td>1.4</td>\n",
       "      <td>0.84</td>\n",
       "      <td>Autre</td>\n",
       "      <td>NaN</td>\n",
       "    </tr>\n",
       "    <tr>\n",
       "      <th>3</th>\n",
       "      <td>29/11/19</td>\n",
       "      <td>18:05</td>\n",
       "      <td>18:19</td>\n",
       "      <td>00:13</td>\n",
       "      <td>133 Rue Anatole France 63000 Clermont-Ferrand ...</td>\n",
       "      <td>Boulevard Saint-Jean Angle Rue Chappe 63100 Cl...</td>\n",
       "      <td>1.7</td>\n",
       "      <td>597</td>\n",
       "      <td>8.4</td>\n",
       "      <td>1.4</td>\n",
       "      <td>0.20</td>\n",
       "      <td>Autre</td>\n",
       "      <td>NaN</td>\n",
       "    </tr>\n",
       "    <tr>\n",
       "      <th>4</th>\n",
       "      <td>29/11/19</td>\n",
       "      <td>16:36</td>\n",
       "      <td>16:45</td>\n",
       "      <td>00:08</td>\n",
       "      <td>184 Boulevard Gustave Flaubert 63000 Clermont-...</td>\n",
       "      <td>150 Avenue Edouard Michelin 63000 Clermont-Fer...</td>\n",
       "      <td>2.8</td>\n",
       "      <td>595</td>\n",
       "      <td>5.6</td>\n",
       "      <td>1.4</td>\n",
       "      <td>0.22</td>\n",
       "      <td>Autre</td>\n",
       "      <td>NaN</td>\n",
       "    </tr>\n",
       "  </tbody>\n",
       "</table>\n",
       "</div>"
      ],
      "text/plain": [
       "       date    t_i    t_f     dt  \\\n",
       "0  30/11/19  15:05  15:49  00:44   \n",
       "1  30/11/19  14:05  14:25  00:20   \n",
       "2  29/11/19  18:45  19:04  00:18   \n",
       "3  29/11/19  18:05  18:19  00:13   \n",
       "4  29/11/19  16:36  16:45  00:08   \n",
       "\n",
       "                                           address_i  \\\n",
       "0         28 Avenue de l'Europe 63370 Lempdes France   \n",
       "1     26 Rue Emile Roux 63430 Pont-du-Château France   \n",
       "2  Boulevard Saint-Jean Angle Rue Chappe 63100 Cl...   \n",
       "3  133 Rue Anatole France 63000 Clermont-Ferrand ...   \n",
       "4  184 Boulevard Gustave Flaubert 63000 Clermont-...   \n",
       "\n",
       "                                           address_f     d   km  conso  \\\n",
       "0  10 Rue Côte Tranchant 63430 Pont-du-Château Fr...  39.4  670    4.6   \n",
       "1         64 Avenue de l'Europe 63370 Lempdes France  18.2  629    5.0   \n",
       "2     30 Rue Emile Roux 63430 Pont-du-Château France  13.5  610    4.4   \n",
       "3  Boulevard Saint-Jean Angle Rue Chappe 63100 Cl...   1.7  597    8.4   \n",
       "4  150 Avenue Edouard Michelin 63000 Clermont-Fer...   2.8  595    5.6   \n",
       "\n",
       "   gazoil_price  price    cat  unknown  \n",
       "0           1.4   2.52  Autre      NaN  \n",
       "1           1.4   1.29  Autre      NaN  \n",
       "2           1.4   0.84  Autre      NaN  \n",
       "3           1.4   0.20  Autre      NaN  \n",
       "4           1.4   0.22  Autre      NaN  "
      ]
     },
     "execution_count": 6,
     "metadata": {},
     "output_type": "execute_result"
    }
   ],
   "source": [
    "cols_names = ['date', 't_i', 't_f', 'dt', \n",
    "              'address_i', 'address_f', 'd', 'km', \n",
    "              'conso', 'gazoil_price', 'price' , \n",
    "              'cat', 'unknown']\n",
    "df = pd.read_csv('formated_data.csv', delimiter=';', names=cols_names, skiprows=1)\n",
    "df.head()"
   ]
  },
  {
   "cell_type": "code",
   "execution_count": 7,
   "metadata": {
    "scrolled": false
   },
   "outputs": [
    {
     "data": {
      "image/png": "[encoded data removed]",
      "text/plain": [
       "<Figure size 432x288 with 1 Axes>"
      ]
     },
     "metadata": {
      "needs_background": "light"
     },
     "output_type": "display_data"
    }
   ],
   "source": [
    "plt.plot(df['d'], df['conso'], marker='o', linewidth=0);"
   ]
  },
  {
   "cell_type": "code",
   "execution_count": 8,
   "metadata": {},
   "outputs": [
    {
     "data": {
      "image/png": "[encoded data removed]",
      "text/plain": [
       "<Figure size 432x288 with 1 Axes>"
      ]
     },
     "metadata": {
      "needs_background": "light"
     },
     "output_type": "display_data"
    }
   ],
   "source": [
    "plt.plot(df['d'], df['dt'], marker='o', linewidth=0);"
   ]
  },
  {
   "cell_type": "code",
   "execution_count": 13,
   "metadata": {
    "scrolled": true
   },
   "outputs": [
    {
     "data": {
      "image/png": "[encoded data removed]",
      "text/plain": [
       "<Figure size 432x288 with 1 Axes>"
      ]
     },
     "metadata": {
      "needs_background": "light"
     },
     "output_type": "display_data"
    }
   ],
   "source": [
    "plt.hist(df['conso'], bins=np.linspace(4, 10, 12));"
   ]
  },
  {
   "cell_type": "code",
   "execution_count": 14,
   "metadata": {},
   "outputs": [
    {
     "data": {
      "image/png": "[encoded data removed]",
      "text/plain": [
       "<Figure size 432x288 with 1 Axes>"
      ]
     },
     "metadata": {
      "needs_background": "light"
     },
     "output_type": "display_data"
    }
   ],
   "source": [
    "plt.hist(df['d'], bins=12);"
   ]
  },
  {
   "cell_type": "code",
   "execution_count": 15,
   "metadata": {},
   "outputs": [
    {
     "data": {
      "image/png": "[encoded data removed]",
      "text/plain": [
       "<Figure size 432x288 with 1 Axes>"
      ]
     },
     "metadata": {
      "needs_background": "light"
     },
     "output_type": "display_data"
    }
   ],
   "source": [
    "plt.plot(df['date'], df['conso'], marker='o', linewidth=0);"
   ]
  },
  {
   "cell_type": "code",
   "execution_count": null,
   "metadata": {},
   "outputs": [],
   "source": []
  }
 ],
 "metadata": {
  "kernelspec": {
   "display_name": "Python 3",
   "language": "python",
   "name": "python3"
  },
  "language_info": {
   "codemirror_mode": {
    "name": "ipython",
    "version": 3
   },
   "file_extension": ".py",
   "mimetype": "text/x-python",
   "name": "python",
   "nbconvert_exporter": "python",
   "pygments_lexer": "ipython3",
   "version": "3.7.1"
  }
 },
 "nbformat": 4,
 "nbformat_minor": 2
}
